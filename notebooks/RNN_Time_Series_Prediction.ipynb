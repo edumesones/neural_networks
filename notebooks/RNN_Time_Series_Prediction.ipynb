{
 "cells": [
  {
   "cell_type": "markdown",
   "metadata": {},
   "source": [
    "**A Recurrent Neural Network (RNN)** is a type of neural network designed to recognize patterns in sequences of data, such as time series, speech, text, or video. Unlike traditional feedforward neural networks, **RNNs have connections that form directed cycles**, allowing them to maintain a memory of previous inputs.  \n",
    "\n",
    "This \"memory\" enables RNNs to capture temporal dependencies and relationships within the data, making them particularly useful for tasks involving sequences."
   ]
  },
  {
   "cell_type": "markdown",
   "metadata": {},
   "source": [
    "**USES:**  \n",
    "- Time Series Prediction: Forecasting future values in time series data, such as stock prices, weather data, or energy consumption.\n",
    "- Natural Language Processing (NLP): Tasks like text generation, machine translation, sentiment analysis, and speech recognition, where understanding the context and sequence of words is crucial.\n",
    "- Speech Recognition: Converting spoken language into text by understanding the sequence of sounds over time.\n",
    "- Video Analysis: Analyzing sequences of video frames for applications like activity recognition, object tracking, or video captioning.\n",
    "- Music Generation: Creating new music by learning patterns from sequences of notes or chords."
   ]
  },
  {
   "cell_type": "markdown",
   "metadata": {
    "vscode": {
     "languageId": "plaintext"
    }
   },
   "source": [
    "**Key Elements of RNNs** \n",
    "- Recurrent Connections:\n",
    "    - RNNs have connections that loop back to previous layers or the same layer, allowing the network to maintain a hidden state that captures information from previous inputs.\n",
    "    - At each time step, the network updates its hidden state based on the current input and the previous hidden state, enabling it to remember and use information from past inputs.\n",
    "- Hidden State:\n",
    "    - The hidden state acts as the network’s memory, storing information about the sequence seen so far.\n",
    "    - The hidden state is updated at each time step, allowing the network to keep track of temporal dependencies in the data.\n",
    "- Activation Functions:\n",
    "    - RNNs use activation functions like Tanh or ReLU to introduce non-linearity, enabling the network to learn complex patterns.\n",
    "    - Tanh is often used in RNNs to keep the values of the hidden state within a certain range, preventing it from growing too large.\n",
    "- Vanishing and Exploding Gradient Problems:\n",
    "\n",
    "    - Challenges: During training, RNNs can suffer from vanishing or exploding gradients, where gradients become too small or too large, making it difficult to update the weights properly.\n",
    "    - Solutions: Variants like Long Short-Term Memory (LSTM) and Gated Recurrent Units (GRU) were developed to mitigate these issues by adding gates that control the flow of information.\n",
    "- Output Layer:\n",
    "\n",
    "    - The final layer of an RNN processes the hidden state and produces an output, which could be a prediction, classification, or the next element in a sequence.\n",
    "    - The output can be a single value, a sequence of values, or a probability distribution, depending on the task."
   ]
  },
  {
   "cell_type": "markdown",
   "metadata": {},
   "source": [
    "**Problem Description**  \n",
    "The problem we are solving with this model is time series prediction applied to sunspot data. Sunspots are temporary areas on the sun's surface that appear darker than their surroundings due to magnetic activity. This data is important because sunspots have a direct impact on solar activity, which in turn can influence space weather and technology on Earth, such as satellite communications.\n",
    "\n",
    "The goal of the model is to predict the number of sunspots in the future using past sequences of data. We use a Recurrent Neural Network (RNN) for this task, as RNNs are particularly well-suited for capturing temporal patterns and long-term dependencies in time series data.\n",
    "\n"
   ]
  },
  {
   "cell_type": "code",
   "execution_count": 3,
   "metadata": {},
   "outputs": [
    {
     "name": "stdout",
     "output_type": "stream",
     "text": [
      "^C\n",
      "Note: you may need to restart the kernel to use updated packages.\n"
     ]
    },
    {
     "name": "stderr",
     "output_type": "stream",
     "text": [
      "WARNING: You are using pip version 20.2.1; however, version 24.2 is available.\n",
      "You should consider upgrading via the 'c:\\Users\\egzlz\\AppData\\Local\\Programs\\Python\\Python38\\python.exe -m pip install --upgrade pip' command.\n"
     ]
    },
    {
     "name": "stdout",
     "output_type": "stream",
     "text": [
      "Collecting pandas-datareader\n",
      "  Downloading pandas_datareader-0.10.0-py3-none-any.whl (109 kB)\n",
      "Requirement already satisfied: requests>=2.19.0 in c:\\users\\egzlz\\appdata\\local\\programs\\python\\python38\\lib\\site-packages (from pandas-datareader) (2.28.1)\n",
      "Requirement already satisfied: lxml in c:\\users\\egzlz\\appdata\\local\\programs\\python\\python38\\lib\\site-packages (from pandas-datareader) (4.9.0)\n",
      "Requirement already satisfied: pandas>=0.23 in c:\\users\\egzlz\\appdata\\local\\programs\\python\\python38\\lib\\site-packages (from pandas-datareader) (1.4.2)\n",
      "Requirement already satisfied: certifi>=2017.4.17 in c:\\users\\egzlz\\appdata\\local\\programs\\python\\python38\\lib\\site-packages (from requests>=2.19.0->pandas-datareader) (2022.6.15)\n",
      "Requirement already satisfied: idna<4,>=2.5 in c:\\users\\egzlz\\appdata\\local\\programs\\python\\python38\\lib\\site-packages (from requests>=2.19.0->pandas-datareader) (2.10)\n",
      "Requirement already satisfied: charset-normalizer<3,>=2 in c:\\users\\egzlz\\appdata\\local\\programs\\python\\python38\\lib\\site-packages (from requests>=2.19.0->pandas-datareader) (2.1.0)\n",
      "Requirement already satisfied: urllib3<1.27,>=1.21.1 in c:\\users\\egzlz\\appdata\\local\\programs\\python\\python38\\lib\\site-packages (from requests>=2.19.0->pandas-datareader) (1.26.9)\n",
      "Requirement already satisfied: numpy>=1.18.5; platform_machine != \"aarch64\" and platform_machine != \"arm64\" and python_version < \"3.10\" in c:\\users\\egzlz\\appdata\\local\\programs\\python\\python38\\lib\\site-packages (from pandas>=0.23->pandas-datareader) (1.22.4)\n",
      "Requirement already satisfied: python-dateutil>=2.8.1 in c:\\users\\egzlz\\appdata\\roaming\\python\\python38\\site-packages (from pandas>=0.23->pandas-datareader) (2.8.2)\n",
      "Requirement already satisfied: pytz>=2020.1 in c:\\users\\egzlz\\appdata\\local\\programs\\python\\python38\\lib\\site-packages (from pandas>=0.23->pandas-datareader) (2022.1)\n",
      "Requirement already satisfied: six>=1.5 in c:\\users\\egzlz\\appdata\\local\\programs\\python\\python38\\lib\\site-packages (from python-dateutil>=2.8.1->pandas>=0.23->pandas-datareader) (1.12.0)\n",
      "Installing collected packages: pandas-datareader\n",
      "Successfully installed pandas-datareader-0.10.0\n"
     ]
    }
   ],
   "source": [
    "pip install pandas-datareader\n"
   ]
  },
  {
   "cell_type": "code",
   "execution_count": 16,
   "metadata": {},
   "outputs": [
    {
     "data": {
      "text/html": [
       "<div>\n",
       "<style scoped>\n",
       "    .dataframe tbody tr th:only-of-type {\n",
       "        vertical-align: middle;\n",
       "    }\n",
       "\n",
       "    .dataframe tbody tr th {\n",
       "        vertical-align: top;\n",
       "    }\n",
       "\n",
       "    .dataframe thead th {\n",
       "        text-align: right;\n",
       "    }\n",
       "</style>\n",
       "<table border=\"1\" class=\"dataframe\">\n",
       "  <thead>\n",
       "    <tr style=\"text-align: right;\">\n",
       "      <th></th>\n",
       "      <th>Month</th>\n",
       "      <th>Sunspots</th>\n",
       "    </tr>\n",
       "  </thead>\n",
       "  <tbody>\n",
       "    <tr>\n",
       "      <th>0</th>\n",
       "      <td>1749-01</td>\n",
       "      <td>58.0</td>\n",
       "    </tr>\n",
       "    <tr>\n",
       "      <th>1</th>\n",
       "      <td>1749-02</td>\n",
       "      <td>62.6</td>\n",
       "    </tr>\n",
       "    <tr>\n",
       "      <th>2</th>\n",
       "      <td>1749-03</td>\n",
       "      <td>70.0</td>\n",
       "    </tr>\n",
       "    <tr>\n",
       "      <th>3</th>\n",
       "      <td>1749-04</td>\n",
       "      <td>55.7</td>\n",
       "    </tr>\n",
       "    <tr>\n",
       "      <th>4</th>\n",
       "      <td>1749-05</td>\n",
       "      <td>85.0</td>\n",
       "    </tr>\n",
       "    <tr>\n",
       "      <th>...</th>\n",
       "      <td>...</td>\n",
       "      <td>...</td>\n",
       "    </tr>\n",
       "    <tr>\n",
       "      <th>2815</th>\n",
       "      <td>1983-08</td>\n",
       "      <td>71.8</td>\n",
       "    </tr>\n",
       "    <tr>\n",
       "      <th>2816</th>\n",
       "      <td>1983-09</td>\n",
       "      <td>50.3</td>\n",
       "    </tr>\n",
       "    <tr>\n",
       "      <th>2817</th>\n",
       "      <td>1983-10</td>\n",
       "      <td>55.8</td>\n",
       "    </tr>\n",
       "    <tr>\n",
       "      <th>2818</th>\n",
       "      <td>1983-11</td>\n",
       "      <td>33.3</td>\n",
       "    </tr>\n",
       "    <tr>\n",
       "      <th>2819</th>\n",
       "      <td>1983-12</td>\n",
       "      <td>33.4</td>\n",
       "    </tr>\n",
       "  </tbody>\n",
       "</table>\n",
       "<p>2820 rows × 2 columns</p>\n",
       "</div>"
      ],
      "text/plain": [
       "        Month  Sunspots\n",
       "0     1749-01      58.0\n",
       "1     1749-02      62.6\n",
       "2     1749-03      70.0\n",
       "3     1749-04      55.7\n",
       "4     1749-05      85.0\n",
       "...       ...       ...\n",
       "2815  1983-08      71.8\n",
       "2816  1983-09      50.3\n",
       "2817  1983-10      55.8\n",
       "2818  1983-11      33.3\n",
       "2819  1983-12      33.4\n",
       "\n",
       "[2820 rows x 2 columns]"
      ]
     },
     "execution_count": 16,
     "metadata": {},
     "output_type": "execute_result"
    }
   ],
   "source": [
    "df"
   ]
  },
  {
   "cell_type": "code",
   "execution_count": 22,
   "metadata": {},
   "outputs": [],
   "source": [
    "import pandas as pd\n",
    "from pandas_datareader import data as pdr\n",
    "url = \"https://raw.githubusercontent.com/jbrownlee/Datasets/master/monthly-sunspots.csv\"\n",
    "df = pd.read_csv(url, header=0)\n",
    "\n",
    "# Extracting the sunspot data\n",
    "original_sunspots = df['Sunspots'].values\n",
    "\n",
    "# Normalizing the data\n",
    "sunspots = (original_sunspots - original_sunspots.min()) / (original_sunspots.max() - original_sunspots.min())"
   ]
  },
  {
   "cell_type": "code",
   "execution_count": 21,
   "metadata": {},
   "outputs": [
    {
     "data": {
      "text/plain": [
       "1.0"
      ]
     },
     "execution_count": 21,
     "metadata": {},
     "output_type": "execute_result"
    }
   ],
   "source": [
    "sunspots.max()"
   ]
  },
  {
   "cell_type": "code",
   "execution_count": 6,
   "metadata": {},
   "outputs": [
    {
     "name": "stdout",
     "output_type": "stream",
     "text": [
      "Epoch 1/20\n",
      "71/71 [==============================] - 13s 41ms/step - loss: 0.0102 - val_loss: 0.0059\n",
      "Epoch 2/20\n",
      "71/71 [==============================] - 1s 16ms/step - loss: 0.0036 - val_loss: 0.0063\n",
      "Epoch 3/20\n",
      "71/71 [==============================] - 1s 15ms/step - loss: 0.0035 - val_loss: 0.0056\n",
      "Epoch 4/20\n",
      "71/71 [==============================] - 1s 14ms/step - loss: 0.0035 - val_loss: 0.0059\n",
      "Epoch 5/20\n",
      "71/71 [==============================] - 1s 16ms/step - loss: 0.0035 - val_loss: 0.0058\n",
      "Epoch 6/20\n",
      "71/71 [==============================] - 1s 15ms/step - loss: 0.0035 - val_loss: 0.0056\n",
      "Epoch 7/20\n",
      "71/71 [==============================] - 1s 16ms/step - loss: 0.0035 - val_loss: 0.0056\n",
      "Epoch 8/20\n",
      "71/71 [==============================] - 1s 16ms/step - loss: 0.0036 - val_loss: 0.0056\n",
      "Epoch 9/20\n",
      "71/71 [==============================] - 1s 15ms/step - loss: 0.0035 - val_loss: 0.0062\n",
      "Epoch 10/20\n",
      "71/71 [==============================] - 1s 16ms/step - loss: 0.0035 - val_loss: 0.0056\n",
      "Epoch 11/20\n",
      "71/71 [==============================] - 1s 20ms/step - loss: 0.0035 - val_loss: 0.0058\n",
      "Epoch 12/20\n",
      "71/71 [==============================] - 1s 17ms/step - loss: 0.0035 - val_loss: 0.0064\n",
      "Epoch 13/20\n",
      "71/71 [==============================] - 2s 24ms/step - loss: 0.0036 - val_loss: 0.0058\n",
      "Epoch 14/20\n",
      "71/71 [==============================] - 2s 28ms/step - loss: 0.0035 - val_loss: 0.0056\n",
      "Epoch 15/20\n",
      "71/71 [==============================] - 2s 22ms/step - loss: 0.0035 - val_loss: 0.0056\n",
      "Epoch 16/20\n",
      "71/71 [==============================] - 2s 24ms/step - loss: 0.0034 - val_loss: 0.0055\n",
      "Epoch 17/20\n",
      "71/71 [==============================] - 1s 20ms/step - loss: 0.0035 - val_loss: 0.0057\n",
      "Epoch 18/20\n",
      "71/71 [==============================] - 1s 15ms/step - loss: 0.0035 - val_loss: 0.0058\n",
      "Epoch 19/20\n",
      "71/71 [==============================] - 1s 16ms/step - loss: 0.0034 - val_loss: 0.0055\n",
      "Epoch 20/20\n",
      "71/71 [==============================] - 1s 15ms/step - loss: 0.0035 - val_loss: 0.0056\n",
      "18/18 [==============================] - 1s 7ms/step\n",
      "Classification Report:\n",
      "\n",
      "              precision    recall  f1-score   support\n",
      "\n",
      "           0       0.94      0.92      0.93       299\n",
      "           1       0.91      0.93      0.92       263\n",
      "\n",
      "    accuracy                           0.93       562\n",
      "   macro avg       0.93      0.93      0.93       562\n",
      "weighted avg       0.93      0.93      0.93       562\n",
      "\n",
      "Confusion Matrix:\n",
      "\n",
      "[[276  23]\n",
      " [ 18 245]]\n"
     ]
    },
    {
     "data": {
      "image/png": "[encoded data removed]",
      "text/plain": [
       "<Figure size 720x432 with 1 Axes>"
      ]
     },
     "metadata": {
      "needs_background": "light"
     },
     "output_type": "display_data"
    },
    {
     "name": "stdout",
     "output_type": "stream",
     "text": [
      "1/1 [==============================] - 0s 163ms/step\n",
      "Actual Value: 0.49\n",
      "Predicted Value: 0.53\n"
     ]
    }
   ],
   "source": [
    "import tensorflow as tf\n",
    "import numpy as np\n",
    "from sklearn.metrics import classification_report, confusion_matrix\n",
    "import matplotlib.pyplot as plt\n",
    "\n",
    "def create_dataset(data, time_steps=1):\n",
    "    X, Y = [], []\n",
    "    for i in range(len(data)-time_steps-1):\n",
    "        X.append(data[i:(i+time_steps)])\n",
    "        Y.append(data[i + time_steps])\n",
    "    return np.array(X), np.array(Y)\n",
    "\n",
    "time_steps = 10\n",
    "X, Y = create_dataset(sunspots, time_steps)\n",
    "X = X.reshape(X.shape[0], X.shape[1], 1)\n",
    "\n",
    "train_size = int(len(X) * 0.8)\n",
    "X_train, X_test = X[:train_size], X[train_size:]\n",
    "Y_train, Y_test = Y[:train_size], Y[train_size:]\n",
    "\n",
    "model = tf.keras.Sequential([\n",
    "    tf.keras.layers.SimpleRNN(50, activation='relu', input_shape=(time_steps, 1)),\n",
    "    tf.keras.layers.Dense(1)\n",
    "])\n",
    "\n",
    "model.compile(optimizer='adam', loss='mse')\n",
    "\n",
    "model.fit(X_train, Y_train, epochs=20, verbose=1, validation_data=(X_test, Y_test))\n",
    "\n",
    "Y_pred = model.predict(X_test)\n",
    "\n",
    "Y_pred = Y_pred * (np.max(sunspots) - np.min(sunspots)) + np.min(sunspots)\n",
    "Y_test = Y_test * (np.max(sunspots) - np.min(sunspots)) + np.min(sunspots)\n",
    "\n",
    "Y_pred_binary = np.where(Y_pred > np.mean(Y_pred), 1, 0)\n",
    "Y_test_binary = np.where(Y_test > np.mean(Y_test), 1, 0)\n",
    "\n",
    "# Mostrar el reporte de clasificación\n",
    "print(\"Classification Report:\\n\")\n",
    "print(classification_report(Y_test_binary, Y_pred_binary))\n",
    "\n",
    "# Matriz de confusión\n",
    "print(\"Confusion Matrix:\\n\")\n",
    "print(confusion_matrix(Y_test_binary, Y_pred_binary))\n",
    "\n",
    "# Visualización de una predicción\n",
    "plt.figure(figsize=(10, 6))\n",
    "plt.plot(Y_test[:50], label='Real Value')\n",
    "plt.plot(Y_pred[:50], label='Predicted Value')\n",
    "plt.title('Sunspot Prediction')\n",
    "plt.xlabel('Time Step')\n",
    "plt.ylabel('Sunspot Count')\n",
    "plt.legend()\n",
    "plt.show()\n",
    "\n",
    "# Ejemplo de predicción individual\n",
    "random_idx = np.random.randint(0, len(X_test))\n",
    "sample = X_test[random_idx]\n",
    "\n",
    "predicted_value = model.predict(np.expand_dims(sample, axis=0))\n",
    "predicted_value = predicted_value[0][0] * (np.max(sunspots) - np.min(sunspots)) + np.min(sunspots)\n",
    "actual_value = Y_test[random_idx]\n",
    "\n",
    "print(f\"Actual Value: {actual_value:.2f}\")\n",
    "print(f\"Predicted Value: {predicted_value:.2f}\")"
   ]
  },
  {
   "cell_type": "code",
   "execution_count": 18,
   "metadata": {},
   "outputs": [
    {
     "data": {
      "text/plain": [
       "array([[0.52855986]], dtype=float32)"
      ]
     },
     "execution_count": 18,
     "metadata": {},
     "output_type": "execute_result"
    }
   ],
   "source": [
    "predicted_relative_value"
   ]
  },
  {
   "cell_type": "code",
   "execution_count": 19,
   "metadata": {},
   "outputs": [
    {
     "data": {
      "text/plain": [
       "1.0"
      ]
     },
     "execution_count": 19,
     "metadata": {},
     "output_type": "execute_result"
    }
   ],
   "source": [
    "sunspots.max()"
   ]
  },
  {
   "cell_type": "code",
   "execution_count": 23,
   "metadata": {},
   "outputs": [
    {
     "name": "stdout",
     "output_type": "stream",
     "text": [
      "1/1 [==============================] - 0s 178ms/step\n"
     ]
    },
    {
     "data": {
      "text/plain": [
       "134.14849337339402"
      ]
     },
     "execution_count": 23,
     "metadata": {},
     "output_type": "execute_result"
    }
   ],
   "source": [
    " predicted_relative_value = model.predict(np.expand_dims(sample, axis=0))\n",
    "predicted_relative_value[0][0]  * (original_sunspots.max() - original_sunspots.min()) + original_sunspots.min()\n"
   ]
  },
  {
   "cell_type": "code",
   "execution_count": 24,
   "metadata": {},
   "outputs": [
    {
     "data": {
      "text/plain": [
       "125.0"
      ]
     },
     "execution_count": 24,
     "metadata": {},
     "output_type": "execute_result"
    }
   ],
   "source": [
    "original_value=Y_test[random_idx] * (original_sunspots.max() - original_sunspots.min()) + original_sunspots.min()\n",
    "original_value\n"
   ]
  },
  {
   "cell_type": "code",
   "execution_count": 7,
   "metadata": {},
   "outputs": [
    {
     "name": "stdout",
     "output_type": "stream",
     "text": [
      "\n",
      "Classification Report:\n",
      "\n",
      "              precision    recall  f1-score   support\n",
      "\n",
      "           0       0.94      0.92      0.93       299\n",
      "           1       0.91      0.93      0.92       263\n",
      "\n",
      "    accuracy                           0.93       562\n",
      "   macro avg       0.93      0.93      0.93       562\n",
      "weighted avg       0.93      0.93      0.93       562\n",
      "\n"
     ]
    }
   ],
   "source": [
    "print(\"\\nClassification Report:\\n\")\n",
    "print(classification_report(Y_test_binary, Y_pred_binary))"
   ]
  }
 ],
 "metadata": {
  "kernelspec": {
   "display_name": "Python 3",
   "language": "python",
   "name": "python3"
  },
  "language_info": {
   "codemirror_mode": {
    "name": "ipython",
    "version": 3
   },
   "file_extension": ".py",
   "mimetype": "text/x-python",
   "name": "python",
   "nbconvert_exporter": "python",
   "pygments_lexer": "ipython3",
   "version": "3.8.6"
  }
 },
 "nbformat": 4,
 "nbformat_minor": 2
}
